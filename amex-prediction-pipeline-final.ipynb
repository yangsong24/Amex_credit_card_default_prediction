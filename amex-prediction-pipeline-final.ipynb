{
 "cells": [
  {
   "cell_type": "markdown",
   "id": "3c7350cb",
   "metadata": {},
   "source": [
    "# Credit Default Prediction on Amex Dataset"
   ]
  },
  {
   "cell_type": "markdown",
   "id": "27117702",
   "metadata": {},
   "source": [
    "### Importing the necessary libraries"
   ]
  },
  {
   "cell_type": "code",
   "execution_count": 40,
   "id": "7fe43cb9",
   "metadata": {},
   "outputs": [],
   "source": [
    "import numpy as np\n",
    "import pandas as pd \n",
    "\n",
    "import pyspark\n",
    "from pyspark import StorageLevel\n",
    "from pyspark.sql import (\n",
    "    SparkSession, \n",
    "    types, \n",
    "    functions as F,\n",
    ")\n",
    "from pyspark.sql.functions import (\n",
    "    col,\n",
    "    isnan,\n",
    "    when,\n",
    "    count,\n",
    ")\n",
    "from pyspark.ml import Pipeline \n",
    "from pyspark.ml.feature import (\n",
    "    OneHotEncoder, \n",
    "    StringIndexer, \n",
    "    VectorAssembler, \n",
    "    Imputer,\n",
    ")\n",
    "from pyspark.ml.classification import (\n",
    "    LogisticRegression, \n",
    "    LinearSVC,\n",
    "    DecisionTreeClassifier,\n",
    "    GBTClassifier,\n",
    "    RandomForestClassifier,\n",
    ")\n",
    "from pyspark.ml.evaluation import (\n",
    "    BinaryClassificationEvaluator,\n",
    "    MulticlassClassificationEvaluator,\n",
    ")\n",
    "\n",
    "import itertools\n",
    "\n",
    "import pickle"
   ]
  },
  {
   "cell_type": "markdown",
   "id": "b6523270",
   "metadata": {},
   "source": [
    "### Create a Spark Session"
   ]
  },
  {
   "cell_type": "code",
   "execution_count": 2,
   "id": "cbce4d1a",
   "metadata": {},
   "outputs": [
    {
     "name": "stderr",
     "output_type": "stream",
     "text": [
      "Setting default log level to \"WARN\".\n",
      "To adjust logging level use sc.setLogLevel(newLevel). For SparkR, use setLogLevel(newLevel).\n",
      "22/12/16 02:38:54 INFO org.apache.spark.SparkEnv: Registering MapOutputTracker\n",
      "22/12/16 02:38:54 INFO org.apache.spark.SparkEnv: Registering BlockManagerMaster\n",
      "22/12/16 02:38:54 INFO org.apache.spark.SparkEnv: Registering BlockManagerMasterHeartbeat\n",
      "22/12/16 02:38:54 INFO org.apache.spark.SparkEnv: Registering OutputCommitCoordinator\n"
     ]
    }
   ],
   "source": [
    "spark = SparkSession.builder \\\n",
    "                    .appName(\"amex-app\") \\\n",
    "                    .master(\"local[*]\") \\\n",
    "                    .getOrCreate()"
   ]
  },
  {
   "cell_type": "markdown",
   "id": "f1c9dd7c",
   "metadata": {},
   "source": [
    "### Important Global Variables"
   ]
  },
  {
   "cell_type": "code",
   "execution_count": 3,
   "id": "653bace1",
   "metadata": {},
   "outputs": [],
   "source": [
    "TRAIN_DATA_PATH = 'gs://icdp-bigdata-bucket/train_data.csv'\n",
    "TRAIN_LABEL_PATH = 'gs://icdp-bigdata-bucket/train_labels.csv'"
   ]
  },
  {
   "cell_type": "markdown",
   "id": "2d4ead06",
   "metadata": {},
   "source": [
    "### Miscellaneous Utility Functions"
   ]
  },
  {
   "cell_type": "code",
   "execution_count": 4,
   "id": "592136ca",
   "metadata": {},
   "outputs": [],
   "source": [
    "## Function to create a Schema Object for the Dataframe \n",
    "def create_spark_schema(series):\n",
    "    fields = list()\n",
    "    \n",
    "    for value in series: \n",
    "        if value in string_dtypes:\n",
    "            fields.append(\n",
    "                types.StructField(\n",
    "                    value, \n",
    "                    types.StringType(), \n",
    "                    True,\n",
    "                )\n",
    "            )\n",
    "        elif value in date_dtypes:\n",
    "            fields.append(\n",
    "                types.StructField(\n",
    "                    value, \n",
    "                    types.DateType(), \n",
    "                    True,\n",
    "                )\n",
    "            )\n",
    "        elif value in integer_dtypes:\n",
    "            fields.append(\n",
    "                types.StructField(\n",
    "                    value, \n",
    "                    types.IntegerType(), \n",
    "                    True,\n",
    "                )\n",
    "            )\n",
    "        else:\n",
    "            fields.append(\n",
    "                types.StructField(\n",
    "                    value, \n",
    "                    types.FloatType(), \n",
    "                    True,\n",
    "                )\n",
    "            )\n",
    "    return types.StructType(fields)"
   ]
  },
  {
   "cell_type": "code",
   "execution_count": 5,
   "id": "32d71d63",
   "metadata": {},
   "outputs": [],
   "source": [
    "#Add Suffix to List Elements\n",
    "def add_suffix(names, suffix):\n",
    "    return [name + suffix for name in names]"
   ]
  },
  {
   "cell_type": "code",
   "execution_count": 6,
   "id": "fa6631e5",
   "metadata": {},
   "outputs": [],
   "source": [
    "# Drop Columns with Null values above a certain threshold\n",
    "def dropNullColumns(df, threshold):\n",
    "    \"\"\"\n",
    "    This function drops columns containing all null values.\n",
    "    :param df: A PySpark DataFrame\n",
    "    \"\"\"\n",
    "  \n",
    "    null_counts = df.select([F.count(F.when(F.col(c).isNull(), c)).alias(\n",
    "        c) for c in df.columns]).collect()[0].asDict()\n",
    "    print(\"null counts calculated...\")\n",
    "    df_count = df.count()\n",
    "    col_to_drop = [k for k, v in null_counts.items() if v >(df_count * threshold)]  \n",
    "    print(\"columns to drop found...\")\n",
    "    df = df.drop(*col_to_drop)  \n",
    "  \n",
    "    return df, col_to_drop"
   ]
  },
  {
   "cell_type": "markdown",
   "id": "2ed7871e",
   "metadata": {},
   "source": [
    "### Reading the Dataframe"
   ]
  },
  {
   "cell_type": "markdown",
   "id": "5edb262b",
   "metadata": {},
   "source": [
    "#### Reading the First 20 rows only"
   ]
  },
  {
   "cell_type": "code",
   "execution_count": 7,
   "id": "f6d129cd",
   "metadata": {},
   "outputs": [
    {
     "name": "stderr",
     "output_type": "stream",
     "text": [
      "\r",
      "[Stage 0:>                                                          (0 + 1) / 1]\r",
      "\r",
      "                                                                                \r"
     ]
    }
   ],
   "source": [
    "train_df_temp = spark.read.option(\n",
    "    \"header\", 'true',\n",
    ").csv(\n",
    "    TRAIN_DATA_PATH,\n",
    ").limit(\n",
    "    20\n",
    ")\n",
    "train_labels_temp = spark.read.option(\n",
    "    \"header\", 'true',\n",
    ").csv(\n",
    "    TRAIN_LABEL_PATH,\n",
    ").limit(\n",
    "    20\n",
    ")"
   ]
  },
  {
   "cell_type": "markdown",
   "id": "442847ac",
   "metadata": {},
   "source": [
    "#### Define Schema Using Sampled Temporary Dataframe"
   ]
  },
  {
   "cell_type": "code",
   "execution_count": 8,
   "id": "d55f395e",
   "metadata": {},
   "outputs": [],
   "source": [
    "## Known Datatypes: \n",
    "\n",
    "string_dtypes = [\"customer_ID\", 'B_30', 'B_38', 'D_114', 'D_116', 'D_117', 'D_120', 'D_126', 'D_63', 'D_64', 'D_66', 'D_68']\n",
    "date_dtypes = ['S_2']\n",
    "integer_dtypes = ['target']"
   ]
  },
  {
   "cell_type": "code",
   "execution_count": 9,
   "id": "ada57716",
   "metadata": {},
   "outputs": [],
   "source": [
    "train_schema = create_spark_schema(train_df_temp.columns)\n",
    "label_schema = create_spark_schema(train_labels_temp.columns)"
   ]
  },
  {
   "cell_type": "markdown",
   "id": "d7009e86",
   "metadata": {},
   "source": [
    "#### Remove Temp Datasets from Memory"
   ]
  },
  {
   "cell_type": "code",
   "execution_count": 10,
   "id": "a6dc00e9",
   "metadata": {},
   "outputs": [],
   "source": [
    "train_df_temp.unpersist()\n",
    "train_labels_temp.unpersist()\n",
    "\n",
    "del train_df_temp\n",
    "del train_labels_temp"
   ]
  },
  {
   "cell_type": "markdown",
   "id": "f3078a13",
   "metadata": {},
   "source": [
    "#### Reading the Whole Dataset with the Inferred Schema"
   ]
  },
  {
   "cell_type": "code",
   "execution_count": 11,
   "id": "ecb2836a",
   "metadata": {},
   "outputs": [],
   "source": [
    "train_df = spark.read.option(\n",
    "    \"header\", \n",
    "    \"true\",\n",
    ").csv(\n",
    "    TRAIN_DATA_PATH, \n",
    "    schema=train_schema\n",
    ")\n",
    "label_df = spark.read.option(\n",
    "    \"header\", \n",
    "    \"true\",\n",
    ").csv(\n",
    "    TRAIN_LABEL_PATH, \n",
    "    schema=label_schema,\n",
    ")"
   ]
  },
  {
   "cell_type": "code",
   "execution_count": 12,
   "id": "b8e0f1ee",
   "metadata": {},
   "outputs": [],
   "source": [
    "## Other categorization of the known dtypes\n",
    "info_cols = ['customer_ID', 'S_2']\n",
    "target_cols = ['target']\n",
    "cat_cols = ['B_30', 'B_38', 'D_114', 'D_116', 'D_117', 'D_120', 'D_126', 'D_63', 'D_64', 'D_66', 'D_68']\n",
    "\n",
    "\n",
    "# Define Numeric Columns\n",
    "excluded = info_cols + cat_cols\n",
    "num_cols = [col for col in train_df.columns if col not in excluded]"
   ]
  },
  {
   "cell_type": "markdown",
   "id": "44ec3f59",
   "metadata": {},
   "source": [
    "### Preprocessing of the Dataset"
   ]
  },
  {
   "cell_type": "markdown",
   "id": "a10734c3",
   "metadata": {},
   "source": [
    "#### Dropping Null Columns"
   ]
  },
  {
   "cell_type": "code",
   "execution_count": 13,
   "id": "7937c71c",
   "metadata": {},
   "outputs": [
    {
     "name": "stderr",
     "output_type": "stream",
     "text": [
      "22/12/16 02:39:08 WARN org.apache.spark.sql.catalyst.util.package: Truncated the string representation of a plan since it was too large. This behavior can be adjusted by setting 'spark.sql.debug.maxToStringFields'.\n",
      "                                                                                \r"
     ]
    },
    {
     "name": "stdout",
     "output_type": "stream",
     "text": [
      "null counts calculated...\n"
     ]
    },
    {
     "name": "stderr",
     "output_type": "stream",
     "text": [
      "[Stage 5:=====================================================> (120 + 3) / 123]\r"
     ]
    },
    {
     "name": "stdout",
     "output_type": "stream",
     "text": [
      "columns to drop found...\n"
     ]
    },
    {
     "name": "stderr",
     "output_type": "stream",
     "text": [
      "\r",
      "                                                                                \r"
     ]
    }
   ],
   "source": [
    "## Remove All Columns with More than 5% Missing Values\n",
    "train_df, cols_to_drop = dropNullColumns(train_df, 0.05)"
   ]
  },
  {
   "cell_type": "markdown",
   "id": "3d1e5e15",
   "metadata": {},
   "source": [
    "#### Remove Less Important Column S_2"
   ]
  },
  {
   "cell_type": "code",
   "execution_count": 14,
   "id": "43ebbf50",
   "metadata": {},
   "outputs": [],
   "source": [
    "## Remove the S_2 variable as the testing data and the training data are in different time periods \n",
    "train_df = train_df.drop(\"S_2\")"
   ]
  },
  {
   "cell_type": "code",
   "execution_count": 36,
   "id": "1743aec2",
   "metadata": {},
   "outputs": [],
   "source": [
    "cols_to_drop.append(\"S_2\")"
   ]
  },
  {
   "cell_type": "markdown",
   "id": "5fa1ba60",
   "metadata": {},
   "source": [
    "#### Converting Categorical Columns to Numeric using StringIndexer"
   ]
  },
  {
   "cell_type": "code",
   "execution_count": 15,
   "id": "08f97637",
   "metadata": {},
   "outputs": [],
   "source": [
    "cat_columns_to_index = list(set(train_df.columns) & set(cat_cols))"
   ]
  },
  {
   "cell_type": "code",
   "execution_count": 16,
   "id": "012564fb",
   "metadata": {},
   "outputs": [
    {
     "name": "stderr",
     "output_type": "stream",
     "text": [
      "                                                                                \r"
     ]
    }
   ],
   "source": [
    "cat_cols_indexed = add_suffix(cat_columns_to_index, \"_index\")\n",
    "\n",
    "## Create StringIndexer Object\n",
    "indexer = StringIndexer(\n",
    "    inputCols=cat_columns_to_index,\n",
    "    outputCols=cat_cols_indexed,\n",
    ")\n",
    "indexer.setHandleInvalid(\"keep\")\n",
    "indexer_model = indexer.fit(train_df)\n",
    "\n",
    "train_df = indexer_model.transform(train_df)"
   ]
  },
  {
   "cell_type": "markdown",
   "id": "557aa1fc",
   "metadata": {},
   "source": [
    "#### Impute values for numerical columns"
   ]
  },
  {
   "cell_type": "code",
   "execution_count": 17,
   "id": "92d02af4",
   "metadata": {},
   "outputs": [],
   "source": [
    "num_columns_to_impute = list(set(train_df.columns) & set(num_cols))"
   ]
  },
  {
   "cell_type": "code",
   "execution_count": 18,
   "id": "9d7257d6",
   "metadata": {},
   "outputs": [
    {
     "name": "stderr",
     "output_type": "stream",
     "text": [
      "                                                                                \r"
     ]
    }
   ],
   "source": [
    "num_cols_imputed = add_suffix(num_columns_to_impute, \"_imputed\")\n",
    "\n",
    "##Create Imputer\n",
    "imputer = Imputer(\n",
    "    inputCols=num_columns_to_impute,\n",
    "    outputCols=num_cols_imputed,\n",
    ")\n",
    "imputer.setStrategy(\"median\")\n",
    "\n",
    "imputer_model = imputer.fit(train_df)\n",
    "\n",
    "train_df = imputer_model.transform(train_df)"
   ]
  },
  {
   "cell_type": "markdown",
   "id": "d88b3ea3",
   "metadata": {},
   "source": [
    "#### OneHotEncode the Categorical Columns"
   ]
  },
  {
   "cell_type": "code",
   "execution_count": 19,
   "id": "fbe092b8",
   "metadata": {},
   "outputs": [],
   "source": [
    "cat_cols_ohe = add_suffix(cat_cols_indexed, \"_ohe\")\n",
    "https://github.com/yangsong24/Amex_credit_card_default_prediction.git\n",
    "### Create Ohe Object\n",
    "ohe = OneHotEncoder(\n",
    "    inputCols = cat_cols_indexed,\n",
    "    outputCols = cat_cols_ohe,\n",
    ")\n",
    "\n",
    "ohe_model = ohe.fit(train_df)\n",
    "\n",
    "train_df = ohe_model.transform(train_df)"
   ]
  },
  {
   "cell_type": "code",
   "execution_count": 20,
   "id": "b092001f",
   "metadata": {},
   "outputs": [],
   "source": [
    "useful_cols = [\"customer_ID\"] + cat_cols_ohe + num_cols_imputed"
   ]
  },
  {
   "cell_type": "markdown",
   "id": "05ed168d",
   "metadata": {},
   "source": [
    "### Remove Unnecessary Columns and Aggregate"
   ]
  },
  {
   "cell_type": "code",
   "execution_count": 21,
   "id": "2760ad5a",
   "metadata": {},
   "outputs": [],
   "source": [
    "train_df = train_df.select(*useful_cols)"
   ]
  },
  {
   "cell_type": "code",
   "execution_count": 22,
   "id": "cdce9316",
   "metadata": {},
   "outputs": [],
   "source": [
    "new_num_cols = []\n",
    "for num_col in num_cols_imputed:\n",
    "    new_name = num_col.split(\"_\")[0] + \"_\" + num_col.split(\"_\")[1]\n",
    "    new_num_cols.append(new_name)\n",
    "    train_df = train_df.withColumnRenamed(num_col, new_name)\n",
    "new_cat_cols = []\n",
    "for cat_col in cat_cols_ohe:\n",
    "    new_name = cat_col.split(\"_\")[0] + \"_\" + cat_col.split(\"_\")[1]\n",
    "    new_cat_cols.append(new_name)\n",
    "    train_df = train_df.withColumnRenamed(cat_col, new_name)"
   ]
  },
  {
   "cell_type": "code",
   "execution_count": 23,
   "id": "39201add",
   "metadata": {},
   "outputs": [],
   "source": [
    "## Aggregation Functions\n",
    "num_funcs = [\n",
    "    (F.mean, \"_mean\"),\n",
    "     (F.min, \"_min\"),\n",
    "     (F.max, \"_max\"),\n",
    "]\n",
    "\n",
    "cat_funcs = [\n",
    "    (F.count, \"_count\"),\n",
    "    (F.last, \"_last\"),\n",
    "    (F.countDistinct, \"_nunique\"),\n",
    "]"
   ]
  },
  {
   "cell_type": "code",
   "execution_count": 24,
   "id": "76d18a11",
   "metadata": {},
   "outputs": [],
   "source": [
    "agg_num_args = [\n",
    "    func(col).alias(col + suffix) \n",
    "    for col, (func, suffix) in itertools.product(new_num_cols, num_funcs)]\n",
    "\n",
    "agg_cols_args = [\n",
    "    func(col).alias(col + suffix) \n",
    "    for col, (func, suffix) in itertools.product(new_cat_cols, cat_funcs)]\n",
    "\n",
    "# Combine numeric and categoric agg arguments\n",
    "agg_args = agg_num_args + agg_cols_args"
   ]
  },
  {
   "cell_type": "code",
   "execution_count": 25,
   "id": "547a8887",
   "metadata": {},
   "outputs": [],
   "source": [
    "train_df = train_df.groupBy(\"customer_ID\").agg(*agg_args)"
   ]
  },
  {
   "cell_type": "code",
   "execution_count": 26,
   "id": "e7e33c44",
   "metadata": {},
   "outputs": [],
   "source": [
    "train_df = train_df.join(\n",
    "    F.broadcast(label_df), \n",
    "    on=\"customer_ID\",\n",
    ")"
   ]
  },
  {
   "cell_type": "code",
   "execution_count": 27,
   "id": "2ba16c32",
   "metadata": {},
   "outputs": [],
   "source": [
    "va_model = VectorAssembler(\n",
    "    inputCols=train_df.drop(\n",
    "        \"customer_ID\",\n",
    "        \"target\",\n",
    "    ).columns,\n",
    "    outputCol=\"features\",\n",
    "    handleInvalid=\"skip\",\n",
    ")"
   ]
  },
  {
   "cell_type": "code",
   "execution_count": 28,
   "id": "ad608946",
   "metadata": {},
   "outputs": [
    {
     "name": "stderr",
     "output_type": "stream",
     "text": [
      "                                                                                \r"
     ]
    }
   ],
   "source": [
    "train_df = va_model.transform(\n",
    "    train_df,\n",
    ").select(\n",
    "    [\n",
    "        \"customer_ID\", \n",
    "        \"features\", \n",
    "        \"target\",\n",
    "    ]\n",
    ").persist(\n",
    "    StorageLevel.DISK_ONLY,\n",
    ")"
   ]
  },
  {
   "cell_type": "markdown",
   "id": "cb3763d7",
   "metadata": {},
   "source": [
    "### Train Test Split"
   ]
  },
  {
   "cell_type": "code",
   "execution_count": 29,
   "id": "e1885f91",
   "metadata": {},
   "outputs": [],
   "source": [
    "train_split, test_split = train_df.randomSplit(weights = [0.8, 0.2], seed = 42)"
   ]
  },
  {
   "cell_type": "markdown",
   "id": "3a100618",
   "metadata": {},
   "source": [
    "### Fit Models"
   ]
  },
  {
   "cell_type": "markdown",
   "id": "da5cdeef",
   "metadata": {},
   "source": [
    "#### Logistic Regression"
   ]
  },
  {
   "cell_type": "code",
   "execution_count": null,
   "id": "2977e2f5",
   "metadata": {
    "scrolled": true
   },
   "outputs": [
    {
     "name": "stderr",
     "output_type": "stream",
     "text": [
      "22/12/16 03:49:38 WARN com.github.fommil.netlib.BLAS: Failed to load implementation from: com.github.fommil.netlib.NativeSystemBLAS\n",
      "22/12/16 03:49:38 WARN com.github.fommil.netlib.BLAS: Failed to load implementation from: com.github.fommil.netlib.NativeRefBLAS\n",
      "                                                                                \r"
     ]
    }
   ],
   "source": [
    "lr = LogisticRegression(\n",
    "    featuresCol=\"features\",\n",
    "    labelCol=\"target\",\n",
    ")\n",
    "lr_model = lr.fit(train_split)"
   ]
  },
  {
   "cell_type": "code",
   "execution_count": null,
   "id": "b57343e9",
   "metadata": {},
   "outputs": [],
   "source": [
    "lr_preds = lr_model.transform(test_split)"
   ]
  },
  {
   "cell_type": "code",
   "execution_count": null,
   "id": "8363b257",
   "metadata": {},
   "outputs": [],
   "source": [
    "binEval = BinaryClassificationEvaluator(rawPredictionCol=\"prediction\",labelCol=\"target\",metricName=\"areaUnderROC\")\n",
    "multiEval = MulticlassClassificationEvaluator(labelCol = \"target\", predictionCol = \"prediction\")"
   ]
  },
  {
   "cell_type": "code",
   "execution_count": null,
   "id": "ccb244a1",
   "metadata": {},
   "outputs": [
    {
     "name": "stderr",
     "output_type": "stream",
     "text": [
      "                                                                                \r"
     ]
    },
    {
     "name": "stdout",
     "output_type": "stream",
     "text": [
      "AUCROC:  0.8495909980592996\n"
     ]
    },
    {
     "name": "stderr",
     "output_type": "stream",
     "text": [
      "                                                                                \r"
     ]
    },
    {
     "name": "stdout",
     "output_type": "stream",
     "text": [
      "Accuracy:  0.8898278218092375\n"
     ]
    },
    {
     "name": "stderr",
     "output_type": "stream",
     "text": [
      "                                                                                \r"
     ]
    },
    {
     "name": "stdout",
     "output_type": "stream",
     "text": [
      "F1 Score:  0.8889484226843926\n"
     ]
    },
    {
     "name": "stderr",
     "output_type": "stream",
     "text": [
      "                                                                                \r"
     ]
    },
    {
     "name": "stdout",
     "output_type": "stream",
     "text": [
      "Weighted Precision:  0.8884047070122425\n"
     ]
    },
    {
     "name": "stderr",
     "output_type": "stream",
     "text": [
      "[Stage 585:===================================================> (194 + 5) / 200]\r"
     ]
    },
    {
     "name": "stdout",
     "output_type": "stream",
     "text": [
      "Weighted Recall:  0.8898278218092375\n"
     ]
    },
    {
     "name": "stderr",
     "output_type": "stream",
     "text": [
      "\r",
      "                                                                                \r"
     ]
    }
   ],
   "source": [
    "print(\"AUCROC: \", binEval.evaluate(lr_preds))\n",
    "print(\"Accuracy: \", multiEval.evaluate(lr_preds, {multiEval.metricName: \"accuracy\"}))\n",
    "print(\"F1 Score: \", multiEval.evaluate(lr_preds, {multiEval.metricName: \"f1\"}))\n",
    "print(\"Weighted Precision: \", multiEval.evaluate(lr_preds, {multiEval.metricName: \"weightedPrecision\"}))\n",
    "print(\"Weighted Recall: \", multiEval.evaluate(lr_preds, {multiEval.metricName: \"weightedRecall\"}))"
   ]
  },
  {
   "cell_type": "code",
   "execution_count": 35,
   "id": "d3ab0e64",
   "metadata": {},
   "outputs": [
    {
     "name": "stdout",
     "output_type": "stream",
     "text": [
      "+--------------------+--------------------+------+--------------------+--------------------+----------+\n",
      "|         customer_ID|            features|target|       rawPrediction|         probability|prediction|\n",
      "+--------------------+--------------------+------+--------------------+--------------------+----------+\n",
      "|00dbda372d97f2357...|[0.61583860791646...|     0|[-0.9019394609293...|[0.28865210067818...|       1.0|\n",
      "|01439ee3abf1b4552...|[0.06917607898895...|     0|[6.03246938516561...|[0.99760618289505...|       0.0|\n",
      "|01500e2a9f82cfab4...|[0.07531008926721...|     0|[6.83407077258295...|[0.99892469040201...|       0.0|\n",
      "|01bc5e75de384a9bc...|[0.04786717357973...|     0|[3.17294932208646...|[0.95980352597385...|       0.0|\n",
      "|02d2e4eec5ba89aff...|[0.09979327364514...|     0|[5.82379023291571...|[0.99705233589156...|       0.0|\n",
      "|036c54f4ae5f87f73...|[0.11121583042236...|     0|[6.67983866744993...|[0.99874559492165...|       0.0|\n",
      "|0413bb4944d7b691b...|[0.03066083917824...|     0|[4.25528841107121...|[0.98600951309784...|       0.0|\n",
      "|04c67aa295d53e1b2...|[0.08902079898577...|     0|[5.62984916868196...|[0.99642371905175...|       0.0|\n",
      "|06319d8daa0194482...|[0.06877471134066...|     0|[4.76168218364612...|[0.99152129066406...|       0.0|\n",
      "|06574c62cc198b324...|[0.01292081323585...|     0|[2.38471241926895...|[0.91565409589239...|       0.0|\n",
      "|0668be993864ac7ec...|[0.27947334945201...|     1|[-0.3262139208599...|[0.41916211868069...|       1.0|\n",
      "|0670882bd67398451...|[0.09330850266493...|     0|[5.52908305179753...|[0.99604606827212...|       0.0|\n",
      "|069777b9c75da0265...|[0.02558633312582...|     0|[2.47127961658113...|[0.92210372739695...|       0.0|\n",
      "|06d42be40536212af...|[0.04539291913477...|     0|[5.08558537509393...|[0.99385275699891...|       0.0|\n",
      "|07d122da00ffbc7a4...|[0.01017898487715...|     0|[5.75345228247944...|[0.99683821669892...|       0.0|\n",
      "|088aafd5e303fbbd2...|[0.11287134978920...|     0|[4.28259817347577...|[0.98638128694191...|       0.0|\n",
      "|093e05ccc6b5bd236...|[0.02603715321478...|     0|[4.54204403149226...|[0.98946064902164...|       0.0|\n",
      "|0b8442182fd4c6f54...|[0.51178540060153...|     1|[0.08427236892309...|[0.52105563257475...|       0.0|\n",
      "|0e14774f8c8f62aee...|[0.03346872773881...|     0|[4.31304210623358...|[0.98678424977206...|       0.0|\n",
      "|0e6ff5dbc98560712...|[0.56237276700826...|     1|[-1.2386083772188...|[0.22467831070633...|       1.0|\n",
      "|0e72954c5f212fc41...|[0.50097849048100...|     0|[5.15258800420979...|[0.99424885178166...|       0.0|\n",
      "|0e9157fc7896c149f...|[0.11793218667690...|     0|[6.07770333874175...|[0.99771180996277...|       0.0|\n",
      "|0fa79d939d20629ca...|[0.58844712835091...|     0|[2.50021163091608...|[0.92415665476086...|       0.0|\n",
      "|0fe04574b66f46d58...|[0.55799734592437...|     1|[2.52127726501735...|[0.92562003926119...|       0.0|\n",
      "|11f16e461723d609c...|[0.33520905312616...|     0|[1.73414985912430...|[0.84994246339123...|       0.0|\n",
      "|131d1c3963d945da9...|[0.00699403637554...|     0|[5.36075632384076...|[0.99532460990880...|       0.0|\n",
      "|135c50189939563b7...|[0.55287384299131...|     1|[-2.4694073057301...|[0.07803086410648...|       1.0|\n",
      "|136e1185f2a9152e6...|[0.05196753516793...|     0|[5.54306541519380...|[0.99610075479701...|       0.0|\n",
      "|13d851753e4cf97a6...|[0.06080323543686...|     0|[5.03935754609378...|[0.99356378447730...|       0.0|\n",
      "|14cee2d1797e31b98...|[0.82493418455123...|     0|[2.29134227809078...|[0.90815746745748...|       0.0|\n",
      "|15288ee2a9d432340...|[0.95150667887467...|     1|[-4.4053062985353...|[0.01206502274823...|       1.0|\n",
      "|17029532f7a045af4...|[0.17034793129334...|     0|[6.75565792049279...|[0.99883708037376...|       0.0|\n",
      "|17a7c4e7980039f25...|[0.15593889183723...|     0|[-2.6167422516994...|[0.06806865930831...|       1.0|\n",
      "|1836da36752da4347...|[0.93686096943341...|     0|[0.52677520576327...|[0.62873066637303...|       0.0|\n",
      "|1868bccfb0b38b1c7...|[0.13777544464056...|     0|[5.31395259616486...|[0.99510167981700...|       0.0|\n",
      "|1a39ea0d219e10b24...|[0.02712690407553...|     0|[4.53937738531875...|[0.98943280418009...|       0.0|\n",
      "|1b8f1b2931f14a6cb...|[0.05819643632723...|     0|[3.86207463545776...|[0.97940858443564...|       0.0|\n",
      "|1c1a7c6de04703dad...|[0.02262856116375...|     0|[7.52769359455626...|[0.99946231164289...|       0.0|\n",
      "|1c35af58cb3642aa8...|[0.20986583514604...|     0|[0.28384198752553...|[0.57048788560061...|       0.0|\n",
      "|1c54af6001597e50a...|[0.10816259051744...|     0|[3.80245680558567...|[0.97817124907975...|       0.0|\n",
      "|1ca4074d79f32d102...|[0.11928936781791...|     0|[5.22706014701395...|[0.99465938824024...|       0.0|\n",
      "|1cce8afc08677f9ed...|[0.05562870124621...|     0|[2.74999677902899...|[0.93991316791738...|       0.0|\n",
      "|1f2ad2678f88cc785...|[0.85687835858418...|     1|[-6.2976721226464...|[0.00183720292154...|       1.0|\n",
      "|1f829047fb8a3ab17...|[0.21280341194226...|     0|[4.63858223593776...|[0.99042124033808...|       0.0|\n",
      "|1fb4609b86f9b5703...|[0.58583801755538...|     1|[0.84927739115899...|[0.70041553681280...|       0.0|\n",
      "|200e757be234ec6d3...|[0.20568143862944...|     1|[-3.4019649505165...|[0.03223411155026...|       1.0|\n",
      "|20279ab42ec548927...|[0.29177752366432...|     0|[4.8716793417863,...|[0.99239774708264...|       0.0|\n",
      "|2108c8fea83f93fc3...|[0.10428804388413...|     0|[6.26062432951500...|[0.99809358842511...|       0.0|\n",
      "|212615907497824ee...|[0.13198594681241...|     0|[1.43755948451450...|[0.80807643911020...|       0.0|\n",
      "|22099e1a8419a50dd...|[0.02643764822278...|     0|[5.04444079327727...|[0.99359620935805...|       0.0|\n",
      "+--------------------+--------------------+------+--------------------+--------------------+----------+\n",
      "only showing top 50 rows\n",
      "\n"
     ]
    }
   ],
   "source": [
    "lr_preds.show(50)"
   ]
  },
  {
   "cell_type": "markdown",
   "id": "ffcb58da",
   "metadata": {},
   "source": [
    "### Save Models and Meta Data "
   ]
  },
  {
   "cell_type": "markdown",
   "id": "753e36b7",
   "metadata": {},
   "source": [
    "#### Data to Save"
   ]
  },
  {
   "cell_type": "code",
   "execution_count": 50,
   "id": "542f6062",
   "metadata": {},
   "outputs": [],
   "source": [
    "meta_data = {\n",
    "    #\"spark_session\": spark,\n",
    "    \"schema\":{\n",
    "        \"train_schema\": train_schema,\n",
    "        \"label_schema\": label_schema,\n",
    "    },\n",
    "    \"column_names\":{\n",
    "        \"cols_to_drop\": cols_to_drop,\n",
    "        \"cat_columns_to_index\": cat_columns_to_index,\n",
    "        \"num_cols_imputed\": num_cols_imputed,\n",
    "        \"cat_cols_ohe\": cat_cols_ohe,\n",
    "        \"useful_cols\": useful_cols,\n",
    "    },\n",
    "}"
   ]
  },
  {
   "cell_type": "code",
   "execution_count": 52,
   "id": "f655d0b3",
   "metadata": {},
   "outputs": [],
   "source": [
    "with open('/home/aap2239/interpretable-credit-default-prediction/meta_data.pkl', 'wb') as handle:\n",
    "    pickle.dump(meta_data, handle, protocol=pickle.HIGHEST_PROTOCOL)\n"
   ]
  },
  {
   "cell_type": "code",
   "execution_count": 43,
   "id": "714c22ec",
   "metadata": {},
   "outputs": [],
   "source": [
    "from google.cloud import storage\n",
    "\n",
    "PROJECT = 'big-data-86948'\n",
    "BUCKET_NAME = 'icdp-bigdata-bucket'\n",
    "first_layer = \"icdp_deployment/\"\n",
    "second_layer_meta = \"meta_data/\"\n",
    "second_layer_objects = \"objects/\"\n",
    "storage_client = storage.Client(project=PROJECT)"
   ]
  },
  {
   "cell_type": "code",
   "execution_count": 44,
   "id": "72e51011",
   "metadata": {},
   "outputs": [],
   "source": [
    "def create_folder(bucket_name, folder_name):\n",
    "    bucket = storage_client.get_bucket(bucket_name)\n",
    "    blob = bucket.blob(folder_name)\n",
    "    blob.upload_from_string('', content_type='application/x-www-form-urlencoded;charset=UTF-8')"
   ]
  },
  {
   "cell_type": "code",
   "execution_count": 53,
   "id": "63c7b77c",
   "metadata": {},
   "outputs": [],
   "source": [
    "def upload_blob(bucket_name, source_file_name, destination_blob_name):\n",
    "    \"\"\"Uploads a file to the bucket. https://cloud.google.com/storage/docs/ \"\"\"\n",
    "    bucket = storage_client.get_bucket(bucket_name)\n",
    "    blob = bucket.blob(destination_blob_name)\n",
    "    blob.upload_from_filename(source_file_name)\n",
    "    print('File {} uploaded to {}.'.format(\n",
    "        source_file_name,\n",
    "        destination_blob_name))"
   ]
  },
  {
   "cell_type": "code",
   "execution_count": 45,
   "id": "5dc335cb",
   "metadata": {},
   "outputs": [],
   "source": [
    "create_folder(BUCKET_NAME, first_layer)"
   ]
  },
  {
   "cell_type": "code",
   "execution_count": 46,
   "id": "5e99cca9",
   "metadata": {},
   "outputs": [],
   "source": [
    "create_folder(BUCKET_NAME, \"icdp_deployment/\"+second_layer_meta)\n",
    "create_folder(BUCKET_NAME, \"icdp_deployment/\"+second_layer_objects)"
   ]
  },
  {
   "cell_type": "code",
   "execution_count": 56,
   "id": "17e3ad9d",
   "metadata": {},
   "outputs": [
    {
     "name": "stdout",
     "output_type": "stream",
     "text": [
      "File /home/aap2239/interpretable-credit-default-prediction/meta_data.pkl uploaded to icdp_deployment/meta_data/meta_data.pkl.\n"
     ]
    }
   ],
   "source": [
    "upload_blob(BUCKET_NAME, \"/home/aap2239/interpretable-credit-default-prediction/meta_data.pkl\", \"icdp_deployment/\"+second_layer_meta+\"meta_data.pkl\")"
   ]
  },
  {
   "cell_type": "code",
   "execution_count": 57,
   "id": "408faba2",
   "metadata": {},
   "outputs": [],
   "source": [
    "!rm /home/aap2239/interpretable-credit-default-prediction/meta_data.pkl"
   ]
  },
  {
   "cell_type": "markdown",
   "id": "02998aea",
   "metadata": {},
   "source": [
    "#### Models to Save "
   ]
  },
  {
   "cell_type": "code",
   "execution_count": 58,
   "id": "688116e2",
   "metadata": {},
   "outputs": [
    {
     "name": "stderr",
     "output_type": "stream",
     "text": [
      "                                                                                \r"
     ]
    }
   ],
   "source": [
    "indexer_model.save(\"gs://icdp-bigdata-bucket/icdp_deployment/objects/indexer_model\")"
   ]
  },
  {
   "cell_type": "code",
   "execution_count": 59,
   "id": "5ee59c0c",
   "metadata": {},
   "outputs": [
    {
     "name": "stderr",
     "output_type": "stream",
     "text": [
      "                                                                                \r"
     ]
    }
   ],
   "source": [
    "imputer_model.save(\"gs://icdp-bigdata-bucket/icdp_deployment/objects/imputer_model\")"
   ]
  },
  {
   "cell_type": "code",
   "execution_count": 60,
   "id": "cd43b1b2",
   "metadata": {},
   "outputs": [
    {
     "name": "stderr",
     "output_type": "stream",
     "text": [
      "                                                                                \r"
     ]
    }
   ],
   "source": [
    "ohe_model.save(\"gs://icdp-bigdata-bucket/icdp_deployment/objects/ohe_model\")"
   ]
  },
  {
   "cell_type": "code",
   "execution_count": 61,
   "id": "fd1679f6",
   "metadata": {},
   "outputs": [
    {
     "name": "stderr",
     "output_type": "stream",
     "text": [
      "                                                                                \r"
     ]
    }
   ],
   "source": [
    "va_model.save(\"gs://icdp-bigdata-bucket/icdp_deployment/objects/va_model\")"
   ]
  },
  {
   "cell_type": "code",
   "execution_count": 62,
   "id": "8955dc98",
   "metadata": {},
   "outputs": [
    {
     "name": "stderr",
     "output_type": "stream",
     "text": [
      "                                                                                \r"
     ]
    }
   ],
   "source": [
    "lr_model.save(\"gs://icdp-bigdata-bucket/icdp_deployment/objects/lr__model\")"
   ]
  },
  {
   "cell_type": "code",
   "execution_count": null,
   "id": "a57ca17b",
   "metadata": {},
   "outputs": [],
   "source": []
  }
 ],
 "metadata": {
  "kernelspec": {
   "display_name": "Python 3",
   "language": "python",
   "name": "python3"
  },
  "language_info": {
   "codemirror_mode": {
    "name": "ipython",
    "version": 3
   },
   "file_extension": ".py",
   "mimetype": "text/x-python",
   "name": "python",
   "nbconvert_exporter": "python",
   "pygments_lexer": "ipython3",
   "version": "3.8.13"
  }
 },
 "nbformat": 4,
 "nbformat_minor": 5
}
