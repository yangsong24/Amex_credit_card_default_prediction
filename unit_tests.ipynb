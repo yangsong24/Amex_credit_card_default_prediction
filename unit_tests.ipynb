{
 "cells": [
  {
   "cell_type": "code",
   "execution_count": 1,
   "id": "0de35f51",
   "metadata": {},
   "outputs": [],
   "source": [
    "import numpy as np\n",
    "import pandas as pd\n",
    "\n",
    "from typing import Dict\n",
    "\n",
    "import pyspark\n",
    "from pyspark import StorageLevel\n",
    "from pyspark.sql import (\n",
    "    SparkSession,\n",
    "    types,\n",
    "    functions as F,\n",
    ")\n",
    "from pyspark.sql.functions import (\n",
    "    col,\n",
    "    isnan,\n",
    "    when,\n",
    "    count,\n",
    ")\n",
    "from pyspark.ml import Pipeline\n",
    "from pyspark.ml.feature import (\n",
    "    OneHotEncoderModel,\n",
    "    StringIndexerModel,\n",
    "    VectorAssembler,\n",
    "    ImputerModel,\n",
    ")\n",
    "from pyspark.ml.classification import (\n",
    "    LogisticRegressionModel,\n",
    ")\n",
    "from pyspark.ml.evaluation import (\n",
    "    BinaryClassificationEvaluator,\n",
    "    MulticlassClassificationEvaluator,\n",
    ")\n",
    "\n",
    "import itertools\n",
    "\n",
    "import pickle\n",
    "\n",
    "import os\n",
    "os.chdir(\"/home/aap2239/interpretable-credit-default-prediction\")\n",
    "\n",
    "from icdp_predictor import *"
   ]
  },
  {
   "cell_type": "code",
   "execution_count": 2,
   "id": "e1b5050e",
   "metadata": {},
   "outputs": [
    {
     "name": "stderr",
     "output_type": "stream",
     "text": [
      "Setting default log level to \"WARN\".\n",
      "To adjust logging level use sc.setLogLevel(newLevel). For SparkR, use setLogLevel(newLevel).\n",
      "22/12/16 08:49:05 INFO org.apache.spark.SparkEnv: Registering MapOutputTracker\n",
      "22/12/16 08:49:05 INFO org.apache.spark.SparkEnv: Registering BlockManagerMaster\n",
      "22/12/16 08:49:05 INFO org.apache.spark.SparkEnv: Registering BlockManagerMasterHeartbeat\n",
      "22/12/16 08:49:05 INFO org.apache.spark.SparkEnv: Registering OutputCommitCoordinator\n"
     ]
    }
   ],
   "source": [
    "spark = get_spark_session()"
   ]
  },
  {
   "cell_type": "code",
   "execution_count": 3,
   "id": "8dc8423f",
   "metadata": {},
   "outputs": [],
   "source": [
    "meta_data = load_meta_data()"
   ]
  },
  {
   "cell_type": "code",
   "execution_count": 4,
   "id": "2aadfc74",
   "metadata": {},
   "outputs": [
    {
     "name": "stderr",
     "output_type": "stream",
     "text": [
      "22/12/16 08:49:17 WARN org.apache.hadoop.util.concurrent.ExecutorHelper: Thread (Thread[GetFileInfo #1,5,main]) interrupted: \n",
      "java.lang.InterruptedException\n",
      "\tat com.google.common.util.concurrent.AbstractFuture.get(AbstractFuture.java:510)\n",
      "\tat com.google.common.util.concurrent.FluentFuture$TrustedFuture.get(FluentFuture.java:88)\n",
      "\tat org.apache.hadoop.util.concurrent.ExecutorHelper.logThrowableFromAfterExecute(ExecutorHelper.java:48)\n",
      "\tat org.apache.hadoop.util.concurrent.HadoopThreadPoolExecutor.afterExecute(HadoopThreadPoolExecutor.java:90)\n",
      "\tat java.util.concurrent.ThreadPoolExecutor.runWorker(ThreadPoolExecutor.java:1157)\n",
      "\tat java.util.concurrent.ThreadPoolExecutor$Worker.run(ThreadPoolExecutor.java:624)\n",
      "\tat java.lang.Thread.run(Thread.java:750)\n"
     ]
    }
   ],
   "source": [
    "models_dict = load_models(spark = spark)"
   ]
  },
  {
   "cell_type": "code",
   "execution_count": 5,
   "id": "f6af1d31",
   "metadata": {},
   "outputs": [
    {
     "data": {
      "text/plain": [
       "{'indexer_model': StringIndexerModel: uid=StringIndexer_f63dd7cda7d2, handleInvalid=keep, numInputCols=10, numOutputCols=10,\n",
       " 'imputer_model': ImputerModel: uid=Imputer_b3b5a27f34d8, strategy=median, missingValue=NaN, numInputCols=138, numOutputCols=138,\n",
       " 'ohe_model': OneHotEncoderModel: uid=OneHotEncoder_1f05db89aeb8, dropLast=true, handleInvalid=error, numInputCols=10, numOutputCols=10,\n",
       " 'va_model': VectorAssembler_cba0b0e097b9,\n",
       " 'lr_model': LogisticRegressionModel: uid=LogisticRegression_111045ad469c, numClasses=2, numFeatures=477}"
      ]
     },
     "execution_count": 5,
     "metadata": {},
     "output_type": "execute_result"
    }
   ],
   "source": [
    "models_dict"
   ]
  },
  {
   "cell_type": "code",
   "execution_count": 8,
   "id": "0947b296",
   "metadata": {},
   "outputs": [
    {
     "name": "stderr",
     "output_type": "stream",
     "text": [
      "                                                                                \r"
     ]
    }
   ],
   "source": [
    "preds = pipeline_pred(\n",
    "    path = 'gs://icdp-bigdata-bucket/train_data.csv',\n",
    "    limit_of_df = 100000,\n",
    "    spark = spark,\n",
    "    models_dict = models_dict,\n",
    "    meta_data = meta_data,\n",
    ")"
   ]
  },
  {
   "cell_type": "code",
   "execution_count": 9,
   "id": "68b27160",
   "metadata": {},
   "outputs": [
    {
     "name": "stderr",
     "output_type": "stream",
     "text": [
      "[Stage 38:==============================================>           (4 + 1) / 5]\r"
     ]
    },
    {
     "name": "stdout",
     "output_type": "stream",
     "text": [
      "+--------------------+--------------------+--------------------+----------+\n",
      "|         customer_ID|       rawPrediction|         probability|prediction|\n",
      "+--------------------+--------------------+--------------------+----------+\n",
      "|000041bdba6ecadd8...|[3.52528436018695...|[0.97139868721661...|       0.0|\n",
      "|000084e5023181993...|[4.54615530169273...|[0.98950343630857...|       0.0|\n",
      "|0001337ded4e1c253...|[-1.5594244411381...|[0.17372925148198...|       1.0|\n",
      "|000201146e53cacdd...|[3.61952868512074...|[0.97390394903888...|       0.0|\n",
      "|000391f219520dbca...|[-4.2262432557652...|[0.01439686561392...|       1.0|\n",
      "|000473eb907b57c8c...|[-0.8457904409469...|[0.30031665348842...|       1.0|\n",
      "|0004e00358fc4dd63...|[5.84402947988304...|[0.99711122411655...|       0.0|\n",
      "|0004ec03ca1ab2adb...|[5.95678765067497...|[0.99741846867653...|       0.0|\n",
      "|00050d84c6d26e26c...|[4.72075805885786...|[0.99117023638887...|       0.0|\n",
      "|00055add5eaee481b...|[4.71772773441095...|[0.99114367608659...|       0.0|\n",
      "|0005e52a3fa31b7ee...|[-0.8110204267034...|[0.30767309159055...|       1.0|\n",
      "|000678921d09c5503...|[6.95047067811714...|[0.99904273318651...|       0.0|\n",
      "|00067f4aed8cf43b1...|[-1.2621898122830...|[0.22059715857071...|       1.0|\n",
      "|00068f00a4ddaa53b...|[3.39479316434296...|[0.96754141195925...|       0.0|\n",
      "|0008ef32824d3067b...|[3.89585682087423...|[0.98007896274618...|       0.0|\n",
      "|00093b69756b1afe3...|[2.37717226789015...|[0.91506992932426...|       0.0|\n",
      "|000940eb997a3356d...|[2.55290273438302...|[0.92776828104889...|       0.0|\n",
      "|000a1745b0fba14f1...|[8.85315593561878...|[0.99985709048001...|       0.0|\n",
      "|000ac434614bed681...|[3.80961865466087...|[0.97832364816278...|       0.0|\n",
      "|000adf2938f771f75...|[7.46133605833596...|[0.99942544273101...|       0.0|\n",
      "|000b30e00a2a37b5a...|[2.74161178528302...|[0.93943786316005...|       0.0|\n",
      "|000bbcea7cf6a9d74...|[-3.1087234804898...|[0.04274885068701...|       1.0|\n",
      "|000cc41bf286c67da...|[0.57553922330259...|[0.64004033707433...|       0.0|\n",
      "|000df7db33e45c515...|[0.71277752070692...|[0.67101459962110...|       0.0|\n",
      "|000e6806ba7de2cf7...|[4.74089877550214...|[0.99134477139923...|       0.0|\n",
      "|000e7954b7687713b...|[6.20818439309727...|[0.99799115481875...|       0.0|\n",
      "|000f446ef66e08fdd...|[3.05355145998516...|[0.95493560577300...|       0.0|\n",
      "|000fbdd8416278a0b...|[5.06693949073997...|[0.99373778545467...|       0.0|\n",
      "|001089806583b3780...|[1.79540960588969...|[0.85758923025581...|       0.0|\n",
      "|0010fc44055df7e9d...|[4.81041987957091...|[0.99192135672378...|       0.0|\n",
      "|00115d9ba7650295c...|[0.39662490496427...|[0.59787648784679...|       0.0|\n",
      "|0012251d7f58c0b74...|[5.68563155582287...|[0.99661709407157...|       0.0|\n",
      "|0012e41fe6caa3ba3...|[1.54769005205622...|[0.82457985315125...|       0.0|\n",
      "|0013037420169086d...|[3.48238203821845...|[0.97018230645551...|       0.0|\n",
      "|001371860325f7efd...|[4.22582209270525...|[0.98559715703006...|       0.0|\n",
      "|001404030d4c78b76...|[2.87407879371336...|[0.94655008275651...|       0.0|\n",
      "|001470351ad71323c...|[-1.1787360900690...|[0.23527952670137...|       1.0|\n",
      "|0014d127fe17a4b9a...|[2.17735687492522...|[0.89819764258873...|       0.0|\n",
      "|0014d951622647e82...|[6.08067595063101...|[0.99771858626908...|       0.0|\n",
      "|001520e3f8e150034...|[2.98699069206993...|[0.95198293735039...|       0.0|\n",
      "|0015d621bacbfd59c...|[-1.2852794801570...|[0.21665287944509...|       1.0|\n",
      "|0015f17c5ac57874c...|[5.69124792858512...|[0.99663597674129...|       0.0|\n",
      "|00163cf7b8cc9cb27...|[2.75187726402018...|[0.94001928313367...|       0.0|\n",
      "|0019f78139490fa4b...|[-8.0023606530725...|[3.34559683356009...|       1.0|\n",
      "|001a152e1893ab837...|[5.10300118746769...|[0.99395824813108...|       0.0|\n",
      "|001b7ffd50e362afa...|[6.19640025336873...|[0.99796739067844...|       0.0|\n",
      "|001c135588af2ae21...|[4.83798547738372...|[0.99213928141962...|       0.0|\n",
      "|001c9e6229cc6e64c...|[4.36439537443393...|[0.98743747961437...|       0.0|\n",
      "|001cde1044b029fab...|[1.62766335592037...|[0.83584929047435...|       0.0|\n",
      "|001cff857e3644b5d...|[4.78528712062971...|[0.99171744814811...|       0.0|\n",
      "+--------------------+--------------------+--------------------+----------+\n",
      "only showing top 50 rows\n",
      "\n"
     ]
    },
    {
     "name": "stderr",
     "output_type": "stream",
     "text": [
      "\r",
      "[Stage 42:>                                                         (0 + 1) / 1]\r",
      "\r",
      "                                                                                \r"
     ]
    }
   ],
   "source": [
    "preds.show(50)"
   ]
  },
  {
   "cell_type": "code",
   "execution_count": null,
   "id": "d57a888a",
   "metadata": {},
   "outputs": [],
   "source": []
  }
 ],
 "metadata": {
  "kernelspec": {
   "display_name": "Python 3",
   "language": "python",
   "name": "python3"
  },
  "language_info": {
   "codemirror_mode": {
    "name": "ipython",
    "version": 3
   },
   "file_extension": ".py",
   "mimetype": "text/x-python",
   "name": "python",
   "nbconvert_exporter": "python",
   "pygments_lexer": "ipython3",
   "version": "3.8.13"
  }
 },
 "nbformat": 4,
 "nbformat_minor": 5
}
